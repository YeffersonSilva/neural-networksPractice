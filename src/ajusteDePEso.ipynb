{
 "cells": [
  {
   "cell_type": "code",
   "execution_count": null,
   "metadata": {},
   "outputs": [],
   "source": [
    "import numby as np\n",
    "\n",
    "entradas =np.array([0,0],[0,1],[1,0],[1,1])\n",
    "\n",
    "saidas=np.array([0,0,0,1])\n",
    "pesos=np.array([0.0,0.0])\n",
    "tazaAprodizagem = 0.1\n",
    "\n",
    "def stepFunction(soma):\n",
    "    if soma >= 1:\n",
    "        return 1\n",
    "    return 0\n",
    "\n",
    "def calculaSaida(registro):\n",
    "    s=registro.dot(pesos)\n",
    "    return stepFunction(s)\n",
    "\n",
    "\n",
    "    "
   ]
  }
 ],
 "metadata": {
  "language_info": {
   "name": "python"
  }
 },
 "nbformat": 4,
 "nbformat_minor": 2
}
