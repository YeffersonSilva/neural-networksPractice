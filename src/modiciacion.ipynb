{
 "cells": [
  {
   "cell_type": "code",
   "execution_count": 2,
   "metadata": {},
   "outputs": [],
   "source": [
    "import numpy as np\n",
    "\n",
    "entradas = np.array([-1, 7, 5])\n",
    "pesos = np.array([0.8, 0.1, 0])\n",
    "\n",
    "#e entrada p peso\n",
    "\n",
    "def soma(e, p):\n",
    "    return e.dot(p)\n",
    "\n",
    "\n",
    "s = soma(entradas, pesos)\n",
    "\n",
    "\n",
    "def stepFunction(soma):\n",
    "    if soma >= 1:\n",
    "        return 1\n",
    "    return 0\n",
    "\n",
    "\n",
    "r = stepFunction(s)"
   ]
  }
 ],
 "metadata": {
  "kernelspec": {
   "display_name": "Python 3",
   "language": "python",
   "name": "python3"
  },
  "language_info": {
   "codemirror_mode": {
    "name": "ipython",
    "version": 3
   },
   "file_extension": ".py",
   "mimetype": "text/x-python",
   "name": "python",
   "nbconvert_exporter": "python",
   "pygments_lexer": "ipython3",
   "version": "3.12.1"
  }
 },
 "nbformat": 4,
 "nbformat_minor": 2
}
