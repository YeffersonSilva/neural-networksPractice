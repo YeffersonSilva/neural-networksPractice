{
 "cells": [
  {
   "cell_type": "code",
   "execution_count": 6,
   "metadata": {},
   "outputs": [
    {
     "ename": "ValueError",
     "evalue": "shapes (4,4) and (1,3) not aligned: 4 (dim 1) != 1 (dim 0)",
     "output_type": "error",
     "traceback": [
      "\u001b[1;31m---------------------------------------------------------------------------\u001b[0m",
      "\u001b[1;31mValueError\u001b[0m                                Traceback (most recent call last)",
      "Cell \u001b[1;32mIn[6], line 45\u001b[0m\n\u001b[0;32m     42\u001b[0m deltaSaida \u001b[38;5;241m=\u001b[39m errorCamadaSaida \u001b[38;5;241m*\u001b[39m derivadaSaida\n\u001b[0;32m     44\u001b[0m pesos1Transposta \u001b[38;5;241m=\u001b[39m pesos1\u001b[38;5;241m.\u001b[39mT\n\u001b[1;32m---> 45\u001b[0m deltaSaidaXPeso\u001b[38;5;241m=\u001b[39m \u001b[43mdeltaSaida\u001b[49m\u001b[38;5;241;43m.\u001b[39;49m\u001b[43mdot\u001b[49m\u001b[43m(\u001b[49m\u001b[43mpesos1Transposta\u001b[49m\u001b[43m)\u001b[49m\n\u001b[0;32m     46\u001b[0m deltaCamadaOculta\u001b[38;5;241m=\u001b[39m deltaSaidaXPeso \u001b[38;5;241m*\u001b[39m sigmodDerivada(camadaOculta)\n\u001b[0;32m     48\u001b[0m camadaOcultaTransposta \u001b[38;5;241m=\u001b[39m camadaOculta\u001b[38;5;241m.\u001b[39mT\n",
      "\u001b[1;31mValueError\u001b[0m: shapes (4,4) and (1,3) not aligned: 4 (dim 1) != 1 (dim 0)"
     ]
    }
   ],
   "source": [
    "import numpy as nnp\n",
    "\n",
    "def sigmod(soma):\n",
    "    return 1/(1 + nnp.exp(-soma))\n",
    "\n",
    "\n",
    "def sigmodDerivada(sigmod):\n",
    "    return sigmod * (1 - sigmod)\n",
    "\n",
    "a= sigmod(0.5)\n",
    "\n",
    "b=sigmodDerivada(a)\n",
    "\n",
    "\n",
    "\n",
    "entradas = nnp.array([[0,0], [0,1], [1,0], [1,1]])\n",
    "\n",
    "saidas = nnp.array([0, 1, 1, 0])\n",
    "\n",
    "pesos0= nnp.array([[-0.424, -0.740, -0.961], \n",
    "                   [0.358, -0.577, -0.469]])\n",
    "\n",
    "pesos1= nnp.array([[-0.017], [-0.893], [0.148]])\n",
    "\n",
    "epocas=100\n",
    "momento=1\n",
    "taxaAprendizagem=0.3\n",
    "\n",
    "for j in range(epocas):\n",
    "    camadaEntrada = entradas\n",
    "    somaSinapse0 = nnp.dot(camadaEntrada, pesos0) \n",
    "    camadaOculta = sigmod(somaSinapse0)\n",
    "\n",
    "    somaSinapse1 = nnp.dot(camadaOculta, pesos1)\n",
    "    camadaSaida = sigmod(somaSinapse1)\n",
    "    errorCamadaSaida= saidas - camadaSaida\n",
    "    mediaAbsuluta = nnp.mean(nnp.abs(errorCamadaSaida))\n",
    "    \n",
    "\n",
    "\n",
    "    derivadaSaida = sigmodDerivada(camadaSaida)\n",
    "    deltaSaida = errorCamadaSaida * derivadaSaida\n",
    "     \n",
    "    pesos1Transposta = pesos1.T\n",
    "    deltaSaidaXPeso= deltaSaida.dot(pesos1Transposta)\n",
    "    deltaCamadaOculta= deltaSaidaXPeso * sigmodDerivada(camadaOculta)\n",
    "\n",
    "    camadaOcultaTransposta = camadaOculta.T\n",
    "    pesosNovo1 = camadaOcultaTransposta.dot(deltaSaida)\n",
    "    pesos1 = (pesos1 * momento) + (pesosNovo1 * taxaAprendizagem)\n",
    "\n",
    "    camadaEntradaTransposta = camadaEntrada.T\n",
    "    pesosNovo0 = camadaEntradaTransposta.dot(deltaCamadaOculta)"
   ]
  }
 ],
 "metadata": {
  "kernelspec": {
   "display_name": "Python 3",
   "language": "python",
   "name": "python3"
  },
  "language_info": {
   "codemirror_mode": {
    "name": "ipython",
    "version": 3
   },
   "file_extension": ".py",
   "mimetype": "text/x-python",
   "name": "python",
   "nbconvert_exporter": "python",
   "pygments_lexer": "ipython3",
   "version": "3.12.1"
  }
 },
 "nbformat": 4,
 "nbformat_minor": 2
}
